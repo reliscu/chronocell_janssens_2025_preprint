{
 "cells": [
  {
   "cell_type": "code",
   "execution_count": 1,
   "id": "3060bdb0",
   "metadata": {},
   "outputs": [
    {
     "name": "stderr",
     "output_type": "stream",
     "text": [
      "/mnt/lareaulab/reliscu/anaconda3/envs/anndata/lib/python3.12/site-packages/tqdm/auto.py:21: TqdmWarning: IProgress not found. Please update jupyter and ipywidgets. See https://ipywidgets.readthedocs.io/en/stable/user_install.html\n",
      "  from .autonotebook import tqdm as notebook_tqdm\n"
     ]
    }
   ],
   "source": [
    "import os\n",
    "import scvi\n",
    "import torch\n",
    "import pandas as pd\n",
    "import scanpy as sc\n",
    "import anndata as ad\n",
    "\n",
    "# conda activate anndata\n",
    "\n",
    "torch.set_num_threads(20)\n",
    "# OMP_NUM_THREADS=20\n",
    "\n",
    "# pd.set_option(\"display.max_columns\", None)\n",
    "\n",
    "os.chdir(\"/mnt/lareaulab/reliscu/projects/Chronocell/analyses/janssens_2025_preprint\")"
   ]
  },
  {
   "cell_type": "markdown",
   "id": "4fa9191f",
   "metadata": {},
   "source": [
    "Here I run scVI to get a latent representation of the single-cell data for visualization purposes"
   ]
  },
  {
   "cell_type": "code",
   "execution_count": null,
   "id": "0b6f49ea",
   "metadata": {},
   "outputs": [],
   "source": [
    "adata = ad.read_h5ad(\"/mnt/lareaulab/reliscu/projects/Chronocell/data/janssens_2025_preprint/janssens_2025_CellRanger_counts.h5ad\")"
   ]
  },
  {
   "cell_type": "code",
   "execution_count": null,
   "id": "dd50c3d5",
   "metadata": {},
   "outputs": [],
   "source": [
    "adata.layers[\"counts\"] = adata.X.copy()\n",
    "adata.raw = adata  # Keep full dimension safe"
   ]
  },
  {
   "cell_type": "code",
   "execution_count": null,
   "id": "cce3f704",
   "metadata": {},
   "outputs": [],
   "source": [
    "# adata.obs['Experimental_condition'] = adata.obs['Condition'].str.split(r\" [0-9]\").str[0]"
   ]
  },
  {
   "cell_type": "code",
   "execution_count": null,
   "id": "99ab7d24",
   "metadata": {},
   "outputs": [],
   "source": [
    "# Subset data to highly variable features\n",
    "\n",
    "sc.pp.highly_variable_genes(\n",
    "  adata,\n",
    "  n_top_genes = 2000,\n",
    "  subset = True,\n",
    "  layer = \"counts\",\n",
    "  flavor = \"seurat_v3\", \n",
    "  batch_key=\"Condition\"\n",
    ")"
   ]
  },
  {
   "cell_type": "code",
   "execution_count": null,
   "id": "0dc8887f",
   "metadata": {},
   "outputs": [],
   "source": [
    "# scVI model\n",
    "\n",
    "# Note: this takes about 30+ minutes\n",
    "scvi.model.SCVI.setup_anndata(adata, layer=\"counts\", batch_key=\"Condition\")\n",
    "model = scvi.model.SCVI(adata)\n",
    "model.train()"
   ]
  },
  {
   "cell_type": "code",
   "execution_count": null,
   "id": "3ab8af46",
   "metadata": {},
   "outputs": [],
   "source": [
    "# Extract low dim rep.\n",
    "latent = model.get_latent_representation()\n",
    "adata.obsm[\"scVI\"] = latent\n",
    "\n",
    "# Save\n",
    "model.save(\"data/janssens_2025_CellRanger_model_Condition\")\n",
    "adata.write(\"data/janssens_2025_CellRanger_model_Condition/janssens_2025_CellRanger_counts_scVI_Condition.h5ad\")"
   ]
  }
 ],
 "metadata": {
  "kernelspec": {
   "display_name": "anndata",
   "language": "python",
   "name": "python3"
  },
  "language_info": {
   "codemirror_mode": {
    "name": "ipython",
    "version": 3
   },
   "file_extension": ".py",
   "mimetype": "text/x-python",
   "name": "python",
   "nbconvert_exporter": "python",
   "pygments_lexer": "ipython3",
   "version": "3.12.3"
  }
 },
 "nbformat": 4,
 "nbformat_minor": 5
}
