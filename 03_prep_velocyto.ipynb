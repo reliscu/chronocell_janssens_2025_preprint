{
 "cells": [
  {
   "cell_type": "code",
   "execution_count": 2,
   "id": "5a8b15fa",
   "metadata": {},
   "outputs": [],
   "source": [
    "# conda activate velocyto\n",
    "\n",
    "import os\n",
    "import numpy as np\n",
    "import scanpy as sc\n",
    "import anndata as ad\n",
    "\n",
    "# import scvelo as scv\n",
    "# import velocyto as vcy\n",
    "\n",
    "os.chdir(\"/mnt/lareaulab/reliscu/projects/Chronocell/analyses/janssens_2025_preprint\")"
   ]
  },
  {
   "cell_type": "code",
   "execution_count": null,
   "id": "766bcd79",
   "metadata": {},
   "outputs": [],
   "source": [
    "# Here I create matrices of S/U counts from each condition:\n",
    "## 1. eLNP\n",
    "## 2. pIC-LNP\n",
    "## 2. CpG-LNP"
   ]
  },
  {
   "cell_type": "code",
   "execution_count": null,
   "id": "1d8d7a7f",
   "metadata": {},
   "outputs": [],
   "source": [
    "# Get metadata for annotated cells:\n",
    "\n",
    "adata = ad.read_h5ad(\"data/janssens_2025_CellRanger_model/janssens_2025_CellRanger_counts_scVI.h5ad\")"
   ]
  },
  {
   "cell_type": "code",
   "execution_count": 39,
   "id": "32c9e597",
   "metadata": {},
   "outputs": [],
   "source": [
    "adata.obs['Condition'] = adata.obs['Condition'].str.replace(\"LNPs\", \"LNP\")\n",
    "adata.obs['Condition'] = adata.obs['Condition'].str.replace(\" \", \"_\")\n",
    "adata.obs['Experimental_condition'] = adata.obs['Condition'].str.split(r\"_[0-9]\").str[0]\n",
    "adata.obs['Experimental_condition'] = adata.obs['Experimental_condition'].str.replace(\" \", \"_\")"
   ]
  },
  {
   "cell_type": "code",
   "execution_count": null,
   "id": "d84ccf5c",
   "metadata": {},
   "outputs": [],
   "source": [
    "data_dir = \"/mnt/lareaulab/reliscu/projects/Chronocell/data/janssens_2025_preprint/processed/CellRanger\""
   ]
  },
  {
   "cell_type": "code",
   "execution_count": null,
   "id": "ff1a2c08",
   "metadata": {},
   "outputs": [],
   "source": [
    "# Prep steady state data once\n",
    "\n",
    "cdir = \"Steady_State_0h\"\n",
    "cond = \"Steady_state\"\n",
    "adata_ss = sc.read_loom(f\"{data_dir}/{cdir}/velocyto/{cdir}.loom\")\n",
    "annotated_cells = adata.obs.index[adata.obs['Condition'] == cond]\n",
    "\n",
    "# Format barcodes to match naming convention \n",
    "suffix = np.unique(annotated_cells.str.split(\"-\").str[1])\n",
    "adata_ss.obs_names = adata_ss.obs_names.str.split(\":\").str[1].str.replace(\"x\", \"\") \n",
    "adata_ss.obs_names = adata_ss.obs_names + \"-\" + suffix\n",
    "\n",
    "# Subset to cells (and genes) in annotated data\n",
    "adata_ss.var_names_make_unique()\n",
    "row_mask = adata_ss.obs_names.isin(annotated_cells)\n",
    "col_mask = adata_ss.var_names.isin(adata.raw.var_names)\n",
    "adata_ss = adata_ss[row_mask, col_mask].copy()\n",
    "\n",
    "# Add metadata\n",
    "adata_ss.obs = adata_ss.obs.join(adata.obs, how=\"left\")\n",
    "\n",
    "adata_ss.write(f\"data/janssens_2025_CellRanger_Velocyto_counts_{cond}.h5ad\")"
   ]
  },
  {
   "cell_type": "code",
   "execution_count": null,
   "id": "92ae0936",
   "metadata": {},
   "outputs": [],
   "source": [
    "# Combine Velocyto data from each condition into a single anndata object\n",
    "\n",
    "for cond in np.unique(adata.obs['Experimental_condition']):\n",
    "    if cond == \"Steady_state\":\n",
    "        continue\n",
    "    \n",
    "    print(f\"Starting {cond}\")\n",
    "    cond_dirs = [d for d in os.listdir(data_dir) if cond in d]\n",
    "    \n",
    "    adata_list = []\n",
    "    for cdir in cond_dirs:\n",
    "        print(f\"Starting {cdir}\")\n",
    "        \n",
    "        # Note: loading these loom files takes a couple of minutes\n",
    "        adata_cond = sc.read_loom(f\"{data_dir}/{cdir}/velocyto/{cdir}.loom\")\n",
    "        annotated_cells = adata.obs.index[adata.obs['Condition'] == cdir]\n",
    "        \n",
    "        # Format barcodes to match naming convention \n",
    "        suffix = np.unique(annotated_cells.str.split(\"-\").str[1])\n",
    "        adata_cond.obs_names = adata_cond.obs_names.str.split(\":\").str[1].str.replace(\"x\", \"\") \n",
    "        adata_cond.obs_names = adata_cond.obs_names + \"-\" + suffix\n",
    "        \n",
    "        # Subset to cells (and genes) in annotated data\n",
    "        adata_cond.var_names_make_unique()\n",
    "        row_mask = adata_cond.obs_names.isin(annotated_cells)\n",
    "        col_mask = adata_cond.var_names.isin(adata.raw.var_names)\n",
    "        adata_cond = adata_cond[row_mask, col_mask].copy()\n",
    "        \n",
    "         # Add metadata\n",
    "        adata_cond.obs = adata_cond.obs.join(adata.obs, how=\"left\")\n",
    "        \n",
    "        adata_list.append(adata_cond)\n",
    "    \n",
    "    # Merge data from the same experimental condition (plus steady state)\n",
    "    adata_cond_merged = ad.concat(adata_list, join=\"inner\") # inner = intersect on genes\n",
    "    adata_cond_merged.write(f\"data/janssens_2025_CellRanger_Velocyto_counts_{cond}.h5ad\")"
   ]
  },
  {
   "cell_type": "code",
   "execution_count": null,
   "id": "a4ba0b88",
   "metadata": {},
   "outputs": [],
   "source": []
  },
  {
   "cell_type": "code",
   "execution_count": null,
   "id": "a893dda9",
   "metadata": {},
   "outputs": [],
   "source": []
  },
  {
   "cell_type": "code",
   "execution_count": null,
   "id": "4ccdffbe",
   "metadata": {},
   "outputs": [],
   "source": [
    "# Make sure they look okay:\n",
    "\n",
    "adata_cond = ad.read_h5ad(\"data/janssens_2025_CellRanger_Velocyto_counts_CpG-LNP.h5ad\")\n",
    "adata_cond.obs.head()"
   ]
  },
  {
   "cell_type": "code",
   "execution_count": 5,
   "id": "07bea285",
   "metadata": {},
   "outputs": [
    {
     "data": {
      "text/plain": [
       "Experimental_condition\n",
       "CpG-LNP         25598\n",
       "Steady_state    14455\n",
       "Name: count, dtype: int64"
      ]
     },
     "execution_count": 5,
     "metadata": {},
     "output_type": "execute_result"
    }
   ],
   "source": [
    "adata_cond.obs.value_counts(\"Experimental_condition\")"
   ]
  },
  {
   "cell_type": "code",
   "execution_count": 6,
   "id": "26fd42de",
   "metadata": {},
   "outputs": [
    {
     "data": {
      "text/plain": [
       "Condition\n",
       "Steady_state    14455\n",
       "CpG-LNP_8h      12836\n",
       "CpG-LNP_2h      12762\n",
       "Name: count, dtype: int64"
      ]
     },
     "execution_count": 6,
     "metadata": {},
     "output_type": "execute_result"
    }
   ],
   "source": [
    "adata_cond.obs.value_counts(\"Condition\")"
   ]
  }
 ],
 "metadata": {
  "kernelspec": {
   "display_name": "velocyto",
   "language": "python",
   "name": "python3"
  },
  "language_info": {
   "codemirror_mode": {
    "name": "ipython",
    "version": 3
   },
   "file_extension": ".py",
   "mimetype": "text/x-python",
   "name": "python",
   "nbconvert_exporter": "python",
   "pygments_lexer": "ipython3",
   "version": "3.13.7"
  }
 },
 "nbformat": 4,
 "nbformat_minor": 5
}
